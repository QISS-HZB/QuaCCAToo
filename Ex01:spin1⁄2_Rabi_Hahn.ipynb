{
 "cells": [
  {
   "cell_type": "markdown",
   "metadata": {},
   "source": [
    "    Lucas Tsunaki\n",
    "    02.07.2024"
   ]
  },
  {
   "cell_type": "markdown",
   "metadata": {},
   "source": [
    "In this example, we consider the simplest two-level system. First, we define the system and plot the energy levels. Following that, a Rabi oscillation is simulated for two different pulse waves vectors, with the results being fitted and plotted in the Bloch sphere. Lastly, we simulated a Hahn echo decay for a modelled collapse operator."
   ]
  },
  {
   "cell_type": "markdown",
   "metadata": {},
   "source": [
    "**Table of contents**<a id='toc0_'></a>    \n",
    "- 1. [Defining the Spin 1/2 System](#toc1_)    \n",
    "- 2. [Rabi Oscillation](#toc2_)    \n",
    "- 3. [Hahn Echo](#toc3_)    \n",
    "  - 3.1. [Custom sequence](#toc3_1_)    \n",
    "\n",
    "<!-- vscode-jupyter-toc-config\n",
    "\tnumbering=true\n",
    "\tanchor=true\n",
    "\tflat=false\n",
    "\tminLevel=1\n",
    "\tmaxLevel=6\n",
    "\t/vscode-jupyter-toc-config -->\n",
    "<!-- THIS CELL WILL BE REPLACED ON TOC UPDATE. DO NOT WRITE YOUR TEXT IN THIS CELL -->"
   ]
  },
  {
   "cell_type": "code",
   "execution_count": null,
   "metadata": {},
   "outputs": [],
   "source": [
    "import numpy as np\n",
    "from qutip import sigmax, sigmay, sigmaz, fock_dm"
   ]
  },
  {
   "cell_type": "markdown",
   "metadata": {},
   "source": [
    "# 1. <a id='toc1_'></a>[Defining the Spin 1/2 System](#toc0_)"
   ]
  },
  {
   "cell_type": "markdown",
   "metadata": {},
   "source": [
    "We begin defining a general two-level system with a time independent Hamiltonian given by\n",
    "$$ H_0 = \\frac{\\Delta}{2} \\sigma_z ,$$ \n",
    "where $\\Delta$ is the energy difference between the two levels and $\\sigma_z$ the Pauli matrix. Although simple, this Hamiltonian can represent a varied number of systems: from spin-1/2 nuclear spins in NMR, to electronic spins in EPR, to superconducting qubits. Let us assume now that the state is initialized in the state $|0 \\rangle$, thus the initial density matrix is\n",
    "$$ \\rho_0 = |0 \\rangle \\langle 0 | = \\begin{pmatrix} 1 & 0 \\\\ 0 & 0 \\end{pmatrix} .$$\n",
    "Last, we also consider that the system has an observable given by the operator $\\sigma_z$."
   ]
  },
  {
   "cell_type": "code",
   "execution_count": null,
   "metadata": {},
   "outputs": [],
   "source": [
    "from quaccatoo.QSys import QSys\n",
    "\n",
    "# here we define delta = 1\n",
    "delta = 1\n",
    "\n",
    "# create the QSys object with the desired parameters\n",
    "qsys = QSys(\n",
    "    H0 = delta/2 * sigmaz(),\n",
    "    rho0 = fock_dm(2, 0),\n",
    "    observable = sigmaz(),\n",
    "    units_H0 = 'MHz' # sets the Hamiltonian units. By default it is considered to be in frequency units.\n",
    ")"
   ]
  },
  {
   "cell_type": "markdown",
   "metadata": {},
   "source": [
    "The energy levels are trivial in this simple case. To visualize them we use the plot_energy method from quaccatoo. Note, that in QSys class, the lowest state energy is subtracted from all the eigenenergies to have the lowest level at 0."
   ]
  },
  {
   "cell_type": "code",
   "execution_count": null,
   "metadata": {},
   "outputs": [],
   "source": [
    "qsys.plot_energy(figsize=(1,3))"
   ]
  },
  {
   "cell_type": "markdown",
   "metadata": {},
   "source": [
    "# 2. <a id='toc2_'></a>[Rabi Oscillation](#toc0_)"
   ]
  },
  {
   "cell_type": "markdown",
   "metadata": {},
   "source": [
    "With the quantum system defined, the first measurement to perform is a Rabi oscillation. This is done by applying a resonant pulse to the system with varying length, such that it will drive the system between the two levels causing a period oscillation of the observable expectation value. Let us consider a square cosine pulse of frequency $\\Delta$ applied on the x-axis of the laboratory frame. The interaction of the pulse with the system is then described in terms of a control Hamiltonian given by\n",
    "$$ H_1 = \\omega_1 \\sigma_x ,$$\n",
    "which is then multiplied by the time-dependent pulse function. $\\omega_1$ is the Rabi frequency, related to the amplitude of the pulse."
   ]
  },
  {
   "cell_type": "code",
   "execution_count": null,
   "metadata": {},
   "outputs": [],
   "source": [
    "# import the Rabi class from the basic predefined pulsed experiments\n",
    "from quaccatoo.BasicPulsedSim import Rabi\n",
    "# import the square_pulse function from the predefined pulse shapes\n",
    "from quaccatoo.PulseShapes import square_pulse\n",
    "\n",
    "# let's consider a rabi frequency 10 times smaller than the resonance frequency, such that the rotating wave approximation is valid\n",
    "w1 = 0.1 # in frequency units\n",
    "\n",
    "# create the Rabi object for the qsys and the desired parameters\n",
    "rabi_exp = Rabi(\n",
    "    pulse_duration = np.linspace(0, 40, 1000), # time array of pulse duration which we want to simulate the experiment\n",
    "    system = qsys, # we pass the qsys object defined in the previous section\n",
    "    H1 = w1*sigmax(), # the Hamiltonian for the interaction with the pulse\n",
    "    pulse_shape = square_pulse, # the pulse shape function we want to use (this line is redundant since square_pulse is the default pulse shape function if not specified)\n",
    "    pulse_params = {'f_pulse': delta}, # we need to pass the the frequency of the pulse as the resonant frequency of the system\n",
    ")\n",
    "\n",
    "# to visualize the pulse sequence we can use the plot_pulses method, where we can see the pulse shape and the pulse duration\n",
    "rabi_exp.plot_pulses()"
   ]
  },
  {
   "cell_type": "markdown",
   "metadata": {},
   "source": [
    "With the run method the experiment is simulated and the expectation value of the observable is plotted with plot_results."
   ]
  },
  {
   "cell_type": "code",
   "execution_count": null,
   "metadata": {},
   "outputs": [],
   "source": [
    "rabi_exp.run()\n",
    "\n",
    "from quaccatoo.Analysis import Analysis\n",
    "Analysis(rabi_exp).plot_results()"
   ]
  },
  {
   "cell_type": "markdown",
   "metadata": {},
   "source": [
    "As expected, the expectation value of the operator shows a period oscillation, but with a small modulation related to the rotating wave approximation as we chose $\\Delta/\\omega_1=10$. For larger ratios, this modulation disappears (check yourself!). Now to fit the data we use the Analysis class."
   ]
  },
  {
   "cell_type": "code",
   "execution_count": null,
   "metadata": {},
   "outputs": [],
   "source": [
    "# import the Analysis class and the fit_rabi function\n",
    "from quaccatoo.FitFunctions import fit_rabi\n",
    "\n",
    "# create the Analysis object for the Rabi experiment\n",
    "rabi_analysis = Analysis(rabi_exp)\n",
    "\n",
    "# fit the Rabi oscillations with the run_fit method\n",
    "rabi_analysis.run_fit(\n",
    "    fit_function = fit_rabi, # here we use the predefined fit_rabi function\n",
    "    guess = [1, 1/2/w1, 0, 0], # we can provide an initial guess for the fit parameters, check the Analysis module for the order of the parameters\n",
    "    )\n",
    "# plot the results of the fit\n",
    "rabi_analysis.plot_fit()\n",
    "\n",
    "# check the fit results\n",
    "rabi_analysis.fit"
   ]
  },
  {
   "cell_type": "markdown",
   "metadata": {},
   "source": [
    "Here we observe that the fitted value of the $\\pi$-pulse duration $t_\\pi \\cong 5.001$ is slightly larger than the expected value of $1/(2 \\omega_1) = 5$. To obtain a more accurate value, we can consider a rotating pulse with two control Hamiltonians $\\sigma_x$ and $\\sigma_y$, for that we define custom pulse shape for X and Y with a dephasing of $\\pi/2$ as follows."
   ]
  },
  {
   "cell_type": "code",
   "execution_count": null,
   "metadata": {},
   "outputs": [],
   "source": [
    "# define a custom pulse shape for X\n",
    "def custom_pulseX(t):\n",
    "    return np.cos(delta*t)\n",
    "\n",
    "# define a custom pulse shape for Y\n",
    "def custom_pulseY(t):\n",
    "    return np.cos(delta*t - np.pi/2)\n",
    "\n",
    "# create the new Rabi object for the qsys and the desired parameters\n",
    "rabi_exp_2 = Rabi(\n",
    "    pulse_duration = np.linspace(0, 40, 1000), # time array of pulse duration which we want to simulate the experiment\n",
    "    system = qsys, # we pass the qsys object defined in the previous section\n",
    "    H1 = [w1*sigmax()/2, w1*sigmay()/2], # the Hamiltonian for the interaction with the pulse now is a list with the two control Hamiltonians for X and Y\n",
    "    pulse_shape = [custom_pulseX, custom_pulseY] # for the pulse_shape we pass a list with the two custom pulse shape functions, as now the custom pulses have no other parameters and pulse_params dictionary is empty\n",
    ")\n",
    "\n",
    "# run the experiment\n",
    "rabi_exp_2.run()\n",
    "# call Analysis class\n",
    "rabi_analysis_2 = Analysis(rabi_exp_2)\n",
    "\n",
    "# fit the Rabi oscillations with the run_fit method same as before\n",
    "rabi_analysis_2.run_fit(\n",
    "    fit_function = fit_rabi,\n",
    "    guess = [1, 1/2/w1, 0, 0]\n",
    "    )\n",
    "\n",
    "# plot the results of the fit\n",
    "rabi_analysis_2.plot_fit()\n",
    "\n",
    "# check the fit results\n",
    "rabi_analysis_2.fit"
   ]
  },
  {
   "cell_type": "markdown",
   "metadata": {},
   "source": [
    "In the rotating frame of reference, this new rotating pulse is fully aligned within the $x$-axis. Thus, the modulations have disappeared and the $t_\\pi$ value is closer to the expected value of $1/(2\\omega_1)$. Another useful way to visualize the Rabi oscillation is through the Bloch sphere representation, as shown bellow. In the rotating frame, the Bloch vector rotates around the $x$-axis. However, in the laboratory frame, it rotates in a spiral."
   ]
  },
  {
   "cell_type": "code",
   "execution_count": null,
   "metadata": {},
   "outputs": [],
   "source": [
    "rabi_exp_3 = Rabi(\n",
    "    pulse_duration = np.linspace(0, 1/2/w1, 500), # In this case we define a pulse duration array which goes up to a pi-pulse\n",
    "    system = qsys, \n",
    "    H1 = [w1*sigmax()/2, w1*sigmay()/2],\n",
    "    pulse_shape = [custom_pulseX, custom_pulseY]\n",
    ")\n",
    "\n",
    "# run the experiment\n",
    "rabi_exp_3.run()\n",
    "# call Analysis class\n",
    "rabi_analysis_3 = Analysis(rabi_exp_3)\n",
    "\n",
    "# plot the Bloch sphere representation of the results\n",
    "rabi_analysis_3.plot_bloch()"
   ]
  },
  {
   "cell_type": "markdown",
   "metadata": {},
   "source": [
    "# 3. <a id='toc3_'></a>[Hahn Echo](#toc0_)"
   ]
  },
  {
   "cell_type": "markdown",
   "metadata": {},
   "source": [
    "Another important quantity in quantum systems is the coherence time $T_2$, being a measure of how fast a system loses its quantum information, or in other words, how fast it becomes classical. To model the non-unitary process which causes quantum decoherence we make use of the Lindblad master equation from Qutip, by defining a collapse operator\n",
    "$$ C = \\gamma \\sigma_z ,$$\n",
    "Where $\\gamma$ is rate of decoherence, inversely proportional to $T_2$. The Hahn echo sequence is then used to measure the coherence time, being composed of two free evolutions with a refocusing $\\pi$-pulse in between. An initial and final $\\pi/2$-pulse are also included in order to project the spin the quantization axis."
   ]
  },
  {
   "cell_type": "code",
   "execution_count": null,
   "metadata": {},
   "outputs": [],
   "source": [
    "# define an arbitrary gamma\n",
    "gamma = 0.1\n",
    "\n",
    "# overwrite the c_ops attribute of the QSys object\n",
    "qsys.c_ops = gamma * sigmaz()\n",
    "\n",
    "# import the Hahn echo experiment from basic predefined methods\n",
    "from quaccatoo.BasicPulsedSim import Hahn\n",
    "\n",
    "hahn_exp = Hahn(\n",
    "    free_duration = np.linspace(5, 25, 30), # define the array of free durations to simulate\n",
    "    pi_pulse_duration= 1/2/w1, # define the pi pulse duration\n",
    "    projection_pulse=True, # include the pi/2 pulse after the second free evolution (this line is redundant since it is the default value) !!! The projection pulse is the last pi/2-pulse. It is only present in NV measurements. The first one that is needed to bring the spin to the equator plane is used in NV experiments as well as in EPR/NMR experiments. Therefore, it is better to keep the first pulse always included, while leaving the last pulse optional !!!\n",
    "    # same parameters as before\n",
    "    system = qsys,\n",
    "    H1 = w1*sigmax(), \n",
    "    pulse_shape=square_pulse,\n",
    "    pulse_params = {'f_pulse': delta}\n",
    ")\n",
    "\n",
    "# plot the pulse sequence\n",
    "hahn_exp.plot_pulses(tau=10)"
   ]
  },
  {
   "cell_type": "markdown",
   "metadata": {},
   "source": [
    "In this case, we can observe the initial and final $\\pi/2$ pulses, the two free evolutions and the middle $\\pi$-pulse. Finaly, running the experiment leads to an exponential decay of the observable expectation value, known as the Hahn echo decay."
   ]
  },
  {
   "cell_type": "code",
   "execution_count": null,
   "metadata": {},
   "outputs": [],
   "source": [
    "# run the experiment and plot the result\n",
    "hahn_exp.run()\n",
    "Analysis(hahn_exp).plot_results()"
   ]
  },
  {
   "cell_type": "markdown",
   "metadata": {},
   "source": [
    "## 3.1. <a id='toc3_1_'></a>[Custom sequence](#toc0_)"
   ]
  },
  {
   "cell_type": "markdown",
   "metadata": {},
   "source": [
    "Let's say now that we want to end the Hahn echo sequence with $3\\pi/2$ pulse instead of $\\pi/2$. This sequence is not predefined in quaccatoo, but the user can define it as bellow."
   ]
  },
  {
   "cell_type": "code",
   "execution_count": null,
   "metadata": {},
   "outputs": [],
   "source": [
    "from quaccatoo.PulsedSim import PulsedSim\n",
    "\n",
    "t_pi = 1/2/w1\n",
    "\n",
    "# the custom sequence needs to be defined as a python function of a controlled variable, in this case of the free evolution time tau\n",
    "def custom_Hahn(tau):\n",
    "    \n",
    "    ps = tau - t_pi # calculate pulse separation time !!! pulse separation time is tau - length of a pi-pulse !!!\n",
    "\n",
    "    seq = PulsedSim(qsys) # we start initializing the sequence\n",
    "    # we add the first pi/half pulse with the add_pulse method\n",
    "    seq.add_pulse(duration=t_pi/2, H1=w1*sigmax(), pulse_shape=square_pulse, pulse_params = {'f_pulse': delta})\n",
    "    # then we add a free evolution with the add_free_evolution method\n",
    "    seq.add_free_evolution(duration=ps)\n",
    "    seq.add_pulse(duration=t_pi, H1=w1*sigmax(), pulse_shape=square_pulse, pulse_params = {'f_pulse': delta})\n",
    "    seq.add_free_evolution(duration=ps)\n",
    "    seq.add_pulse(duration=3*t_pi/2, H1=w1*sigmax(), pulse_shape=square_pulse, pulse_params = {'f_pulse': delta})\n",
    "\n",
    "    # return the final state\n",
    "    return seq.rho\n",
    "\n",
    "custom_seq = PulsedSim(qsys)\n",
    "# in this case the run method should be specified with the variable and sequence\n",
    "custom_seq.run(variable=np.linspace(5, 25, 30), sequence=custom_Hahn)\n",
    "Analysis(custom_seq).plot_results()"
   ]
  },
  {
   "cell_type": "markdown",
   "metadata": {},
   "source": [
    "In this case thus, the expectation value start from negatives values then decays to 0 due to the final 3pi/2 pulse."
   ]
  }
 ],
 "metadata": {
  "kernelspec": {
   "display_name": "qutip5-env",
   "language": "python",
   "name": "python3"
  },
  "language_info": {
   "codemirror_mode": {
    "name": "ipython",
    "version": 3
   },
   "file_extension": ".py",
   "mimetype": "text/x-python",
   "name": "python",
   "nbconvert_exporter": "python",
   "pygments_lexer": "ipython3",
   "version": "3.12.4"
  }
 },
 "nbformat": 4,
 "nbformat_minor": 2
}
