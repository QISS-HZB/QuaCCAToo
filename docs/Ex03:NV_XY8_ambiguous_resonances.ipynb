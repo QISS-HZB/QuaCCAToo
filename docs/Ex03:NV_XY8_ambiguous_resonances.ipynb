{
 "cells": [
  {
   "cell_type": "markdown",
   "metadata": {},
   "source": [
    "    Lucas Tsunaki\n",
    "    02.07.2024"
   ]
  },
  {
   "cell_type": "markdown",
   "metadata": {},
   "source": [
    "In this example we simulate ambiguous resonances in multipulse quantum sensing with nitrogen vacancy (NV) centers in diamonds. This notebook closely follows the work from \"Ambiguous Resonances in Multipulse Quantum Sensing with Nitrogen Vacancy Centers\" available at . \n",
    "\n",
    "As this is a quite complex problem, physics discussions will be kept to a minimum here in favor of a focus to the simulation. For a detailed explanation of the problem, please refer to the original paper."
   ]
  },
  {
   "cell_type": "markdown",
   "metadata": {},
   "source": [
    "**Table of contents**<a id='toc0_'></a>    \n",
    "- 1. [Field Misalignment and $^{15}\\text{N}$ Coupling](#toc1_)    \n",
    "- 2. [RXY8 with H2](#toc2_)    \n",
    "\n",
    "<!-- vscode-jupyter-toc-config\n",
    "\tnumbering=true\n",
    "\tanchor=true\n",
    "\tflat=false\n",
    "\tminLevel=1\n",
    "\tmaxLevel=6\n",
    "\t/vscode-jupyter-toc-config -->\n",
    "<!-- THIS CELL WILL BE REPLACED ON TOC UPDATE. DO NOT WRITE YOUR TEXT IN THIS CELL -->"
   ]
  },
  {
   "cell_type": "code",
   "execution_count": null,
   "metadata": {},
   "outputs": [],
   "source": [
    "import numpy as np"
   ]
  },
  {
   "cell_type": "markdown",
   "metadata": {},
   "source": [
    "# 1. <a id='toc1_'></a>[Field Misalignment and $^{15}\\text{N}$ Coupling](#toc0_)"
   ]
  },
  {
   "cell_type": "markdown",
   "metadata": {},
   "source": [
    "We begin simulating a XY8-2 sequence with a misaligned magnetic field, as in section IV of the paper."
   ]
  },
  {
   "cell_type": "code",
   "execution_count": null,
   "metadata": {},
   "outputs": [],
   "source": [
    "from quaccatoo.QSys import NV\n",
    "\n",
    "# define the NV center system\n",
    "qsys = NV(\n",
    "    N=15, # here we start considering the 15N nuclear spin\n",
    "    B0 = 39, # external magnetic field in mT\n",
    "    units_B0='mT',\n",
    "    theta=3.8, # 3.8 degrees os misalignment\n",
    "    units_angles='deg'\n",
    ")\n",
    "\n",
    "w1 = 40\n",
    "\n",
    "from quaccatoo.PredefDDSeqs import XY8\n",
    "\n",
    "XY8_15N  = XY8(\n",
    "    M=2,\n",
    "    free_duration = np.linspace(.25, .36, 100), # free evolution time in us\n",
    "    pi_pulse_duration = 1/2/w1, # pi-pulse duration in us\n",
    "    system = qsys, # NV center system\n",
    "    H1 = w1*qsys.MW_H1, # control Hamiltonian\n",
    "    pulse_params = {'f_pulse': qsys.MW_freqs[1]}, # MW frequency for the ms=0 --> ms=+1 state transition\n",
    "    time_steps=200 # Number of time steps in each MW pulse\n",
    ")\n",
    "\n",
    "# plot the pulses\n",
    "XY8_15N.plot_pulses(tau=.1, figsize=(12, 4))"
   ]
  },
  {
   "cell_type": "markdown",
   "metadata": {},
   "source": [
    "Here we can observe the 16 $\\pi$-pulses plus the initial and final $\\pi/2$ pulses. Now to run the experiment."
   ]
  },
  {
   "cell_type": "code",
   "execution_count": null,
   "metadata": {},
   "outputs": [],
   "source": [
    "from quaccatoo.Analysis import Analysis\n",
    "XY8_15N.run()\n",
    "Analysis(XY8_15N).plot_results(title=r'XY8-2 $B_0=39$ mT $\\theta_0=3.8^\\circ$')"
   ]
  },
  {
   "cell_type": "markdown",
   "metadata": {},
   "source": [
    "Increasing the XY8 order for M=4,6,8:"
   ]
  },
  {
   "cell_type": "code",
   "execution_count": null,
   "metadata": {},
   "outputs": [],
   "source": [
    "# M = 4\n",
    "XY8_15N.M = 4\n",
    "XY8_15N.run()\n",
    "Analysis(XY8_15N).plot_results(title=r'XY8-4 $B_0=39$ mT $\\theta_0=3.8^\\circ$')"
   ]
  },
  {
   "cell_type": "code",
   "execution_count": null,
   "metadata": {},
   "outputs": [],
   "source": [
    "# M = 6\n",
    "XY8_15N.M = 6\n",
    "XY8_15N.run()\n",
    "Analysis(XY8_15N).plot_results(title=r'XY8-6 $B_0=39$ mT $\\theta_0=3.8^\\circ$')"
   ]
  },
  {
   "cell_type": "code",
   "execution_count": null,
   "metadata": {},
   "outputs": [],
   "source": [
    "# M = 8\n",
    "XY8_15N.M = 8\n",
    "XY8_15N.run()\n",
    "Analysis(XY8_15N).plot_results(title=r'XY8-8 $B_0=39$ mT $\\theta_0=3.8^\\circ$')"
   ]
  },
  {
   "cell_type": "markdown",
   "metadata": {},
   "source": [
    "Now, changing the field for XY8-2."
   ]
  },
  {
   "cell_type": "code",
   "execution_count": null,
   "metadata": {},
   "outputs": [],
   "source": [
    "# 33 mT, 5.1 deg\n",
    "qsys = NV(\n",
    "    N=15, # here we start considering the 15N nuclear spin\n",
    "    B0 = 33, # external magnetic field in mT\n",
    "    units_B0='mT',\n",
    "    theta=5.1, # 2 degrees os misalignment\n",
    "    units_angles='deg'\n",
    ")\n",
    "\n",
    "XY8_15N  = XY8(\n",
    "    M=2,\n",
    "    free_duration = np.linspace(.22, .45, 100), # free evolution time in us\n",
    "    pi_pulse_duration = 1/2/w1, # pi-pulse duration in us\n",
    "    system = qsys, # NV center system\n",
    "    H1 = w1*qsys.MW_H1, # control Hamiltonian\n",
    "    pulse_params = {'f_pulse': qsys.MW_freqs[1]} # MW frequency for the ms=0 --> ms=+1 state transition\n",
    ")\n",
    "\n",
    "XY8_15N.run()\n",
    "Analysis(XY8_15N).plot_results(title=r'XY8-2 $B_0=33$ mT $\\theta_0=5.1^\\circ$')"
   ]
  },
  {
   "cell_type": "code",
   "execution_count": null,
   "metadata": {},
   "outputs": [],
   "source": [
    "# 26 mT, 9.3 deg\n",
    "qsys = NV(\n",
    "    N=15,\n",
    "    B0 = 26, \n",
    "    units_B0='mT',\n",
    "    theta = 9.3,\n",
    "    units_angles='deg'\n",
    ")\n",
    "\n",
    "XY8_15N  = XY8(\n",
    "    M=2,\n",
    "    free_duration = np.linspace(.22, .45, 100), # free evolution time in us\n",
    "    pi_pulse_duration = 1/2/w1, # pi-pulse duration in us\n",
    "    system = qsys, # NV center system\n",
    "    H1 = w1*qsys.MW_H1, # control Hamiltonian\n",
    "    pulse_params = {'f_pulse': qsys.MW_freqs[1]} # MW frequency for the ms=0 --> ms=+1 state transition\n",
    ")\n",
    "\n",
    "XY8_15N.run()\n",
    "Analysis(XY8_15N).plot_results(title=r'XY8-2 $B_0=26$ mT $\\theta_0=9.3^\\circ$')"
   ]
  },
  {
   "cell_type": "code",
   "execution_count": null,
   "metadata": {},
   "outputs": [],
   "source": [
    "# 17 mT, 17 deg\n",
    "qsys = NV(\n",
    "    N=15, # here we start considering the 15N nuclear spin\n",
    "    B0 = 17, # external magnetic field in mT\n",
    "    units_B0='mT',\n",
    "    theta=17, # 2 degrees os misalignment\n",
    "    units_angles='deg'\n",
    ")\n",
    "\n",
    "XY8_15N  = XY8(\n",
    "    M=2,\n",
    "    free_duration = np.linspace(.25, .65, 100), # free evolution time in us\n",
    "    pi_pulse_duration = 1/2/w1, # pi-pulse duration in us\n",
    "    system = qsys, # NV center system\n",
    "    H1 = w1*qsys.MW_H1, # control Hamiltonian\n",
    "    pulse_params = {'f_pulse': qsys.MW_freqs[1]} # MW frequency for the ms=0 --> ms=+1 state transition\n",
    ")\n",
    "\n",
    "XY8_15N.run()\n",
    "Analysis(XY8_15N).plot_results()"
   ]
  },
  {
   "cell_type": "markdown",
   "metadata": {},
   "source": [
    "# 2. <a id='toc2_'></a>[RXY8 with H2](#toc0_)"
   ]
  },
  {
   "cell_type": "code",
   "execution_count": null,
   "metadata": {},
   "outputs": [],
   "source": [
    "from qutip import tensor, jmat, qeye\n",
    "# 17 mT, 17 deg\n",
    "qsys = NV(\n",
    "    N=15, # here we start considering the 15N nuclear spin\n",
    "    B0 = 40, # external magnetic field in mT\n",
    "    units_B0='mT',\n",
    ")\n",
    "\n",
    "w1 = 20\n",
    "f2 = 5.5\n",
    "B2z = 0.28\n",
    "\n",
    "def B2(t, args):\n",
    "    return B2z*np.sin(f2*t)\n",
    "\n",
    "H2 = [tensor(jmat(1,'z'), qeye(2)), B2]      \n",
    "\n",
    "XY8_12_H2  = XY8(\n",
    "    M=12,\n",
    "    free_duration = np.linspace(.06, 0.17, 100), # free evolution time in us\n",
    "    pi_pulse_duration = 1/2/w1, # pi-pulse duration in us\n",
    "    system = qsys, # NV center system\n",
    "    H1 = w1*qsys.MW_H1, # control Hamiltonian\n",
    "    pulse_params = {'f_pulse': qsys.MW_freqs[0]},\n",
    "    H2 = H2\n",
    ")\n",
    "XY8_12_H2.run()\n",
    "Analysis(XY8_12_H2).plot_results()"
   ]
  },
  {
   "cell_type": "code",
   "execution_count": null,
   "metadata": {},
   "outputs": [],
   "source": []
  }
 ],
 "metadata": {
  "kernelspec": {
   "display_name": "qutip5-env",
   "language": "python",
   "name": "python3"
  },
  "language_info": {
   "codemirror_mode": {
    "name": "ipython",
    "version": 3
   },
   "file_extension": ".py",
   "mimetype": "text/x-python",
   "name": "python",
   "nbconvert_exporter": "python",
   "pygments_lexer": "ipython3",
   "version": "3.12.4"
  }
 },
 "nbformat": 4,
 "nbformat_minor": 2
}
