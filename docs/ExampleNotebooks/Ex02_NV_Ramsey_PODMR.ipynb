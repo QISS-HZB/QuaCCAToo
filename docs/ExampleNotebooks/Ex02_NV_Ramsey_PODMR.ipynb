{
 "cells": [
  {
   "cell_type": "markdown",
   "metadata": {},
   "source": [
    "    Lucas Tsunaki\n",
    "    02.07.2024"
   ]
  },
  {
   "cell_type": "markdown",
   "metadata": {},
   "source": [
    "We follow up on first example, but with a more concrete quantum system: the nitrogen vacancy (NV) center in diamond. NVs are probably the most known color centers, due to its extensive research in quantum technologies. Here, however, we will focus on QuaCCAToo's usage rather than the physics of the NV itself. For more detailed information about NVs, we recommend:\n",
    "\n",
    "[1] E. V. Levine, et al., Principles and techniques of the quantum diamond microscope, Nanophotonics 8, 1945 (2019).\n",
    "\n",
    "[2] S. Pezzagna and J. Meijer, Quantum computer based on color centers in diamond, Applied Physics Reviews 8,011308 (2021)."
   ]
  },
  {
   "cell_type": "markdown",
   "metadata": {},
   "source": [
    "**Table of contents**<a id='toc0_'></a>    \n",
    "- 1. [Energy Levels](#toc1_)    \n",
    "- 2. [Rabi Oscillations of Electronic Spin](#toc2_)    \n",
    "- 3. [Ramsey Experiment](#toc3_)    \n",
    "- 4. [Pulsed Optically Detected Magnetic Resonance (PODMR)](#toc4_)    \n",
    "\n",
    "<!-- vscode-jupyter-toc-config\n",
    "\tnumbering=true\n",
    "\tanchor=true\n",
    "\tflat=false\n",
    "\tminLevel=1\n",
    "\tmaxLevel=6\n",
    "\t/vscode-jupyter-toc-config -->\n",
    "<!-- THIS CELL WILL BE REPLACED ON TOC UPDATE. DO NOT WRITE YOUR TEXT IN THIS CELL -->"
   ]
  },
  {
   "cell_type": "code",
   "execution_count": 1,
   "metadata": {},
   "outputs": [],
   "source": [
    "import numpy as np\n",
    "from qutip import fock_dm, tensor, qeye\n",
    "from quaccatoo.QSys import NV, plot_energy_B0\n",
    "from quaccatoo.PredefSeqs import Rabi, Ramsey, PODMR\n",
    "from quaccatoo.Analysis import Analysis\n",
    "from quaccatoo.FitFunctions import fit_two_lorentz_sym"
   ]
  },
  {
   "cell_type": "markdown",
   "metadata": {},
   "source": [
    "# 1. <a id='toc1_'></a>[Energy Levels](#toc0_)"
   ]
  },
  {
   "cell_type": "markdown",
   "metadata": {},
   "source": [
    "We begin defining the quantum system from the predefined NV class in quaccatoo. The class has only two mandatory parameters, the nitrogen isotope $^{14}\\text{N}$ or $^{15}\\text{N}$ and the magnetic field in mT. Optionally, the user can define a misalignment angle between the NV axis and the magnetic field, alternative magnetic field units, alternative Hamiltonian units, or collapse operators for the pulsed experiments."
   ]
  },
  {
   "cell_type": "code",
   "execution_count": null,
   "metadata": {},
   "outputs": [],
   "source": [
    "# define the NV center system\n",
    "qsys = NV(\n",
    "    B0 = 38.4, # external magnetic field in mT\n",
    "    N=15, # here we start considering the 15N nuclear spin\n",
    ")\n",
    "\n",
    "# to visualize the energy levels we use the plot_energy method\n",
    "qsys.plot_energy()"
   ]
  },
  {
   "cell_type": "markdown",
   "metadata": {},
   "source": [
    "Here we observe the three electronic energy levels of the NV center: $m_s=0,-1,+1$. To be able to see the nuclear levels splitting, we need to specify a smaller energy range in the plot_energy method."
   ]
  },
  {
   "cell_type": "code",
   "execution_count": null,
   "metadata": {},
   "outputs": [],
   "source": [
    "qsys.plot_energy(energy_lim=[1790, 1798])"
   ]
  },
  {
   "cell_type": "markdown",
   "metadata": {},
   "source": [
    "Now, the splitting from the $^{15}\\text{N}$ nuclear spin is observed.\n",
    "\n",
    "So far we considered $B_0=40$ mT, but if we want to see how these energy levels change as a function of the external magnetic field we can use the plot_energy_B0 function."
   ]
  },
  {
   "cell_type": "code",
   "execution_count": null,
   "metadata": {},
   "outputs": [],
   "source": [
    "# define the range of B0 values where we want to plot the energy levels\n",
    "B0_array = np.linspace(0, 200, 100)\n",
    "\n",
    "# plot the energy levels as a function of the external magnetic field\n",
    "plot_energy_B0(\n",
    "    B0 = B0_array,\n",
    "    H0 = [NV(N=15, B0=B, units_B0='mT').H0 for B in B0_array] # here we calculate the Hamiltonian for each B0 value\n",
    ")"
   ]
  },
  {
   "cell_type": "markdown",
   "metadata": {},
   "source": [
    "As expected, the $m_s=+1$ grows linearly with the field, while the $m_s=-1$ decreases linearly and $m_s=0$ level is not affected by the field. After 100 mT, the level anticrossing occurs."
   ]
  },
  {
   "cell_type": "markdown",
   "metadata": {},
   "source": [
    "# 2. <a id='toc2_'></a>[Rabi Oscillations of Electronic Spin](#toc0_)"
   ]
  },
  {
   "cell_type": "markdown",
   "metadata": {},
   "source": [
    "Just like in the previous notebook, the first experiment usually conducted is Rabi oscillations. In this case, $H_1$ and the resonant frequency of the pulse are not as trivial as before. The user can define their own parameters, but the NV class has a standard interaction Hamiltonian\n",
    "$$ H_1 = S_x \\otimes \\mathbb{1}, $$\n",
    "which can be obtained by the MW_H1 method. While the resonant frequencies for the $m_s=0 \\rightarrow -1$ and $m_s=0 \\rightarrow +1$ can be obtained from MW_freqs method, which takes the average between the two nuclear spin states. Again, we will consider a square cosine wave for the pulse."
   ]
  },
  {
   "cell_type": "code",
   "execution_count": null,
   "metadata": {},
   "outputs": [],
   "source": [
    "w1 = 16.72 # typical NV Rabi frequency in MHz\n",
    "\n",
    "# define the Rabi experiment\n",
    "rabi_exp_1 = Rabi(\n",
    "    pulse_duration = np.arange(0, 0.15, 3e-3), # pulse duration in us\n",
    "    system = qsys, # NV center system\n",
    "    H1 = w1*qsys.MW_H1, # control Hamiltonian\n",
    "    pulse_params = {'f_pulse': qsys.MW_freqs[0]} # MW frequency for the ms=0 --> ms=-1 state transition\n",
    ")\n",
    "\n",
    "# run the experiment\n",
    "rabi_exp_1.run()\n",
    "# plot results\n",
    "rabi_analysis = Analysis(rabi_exp_1)\n",
    "rabi_analysis.plot_results()"
   ]
  },
  {
   "cell_type": "markdown",
   "metadata": {},
   "source": [
    "If we want to compare with the simulation with experimental data, we can use the ExpData class to load it from .dat file."
   ]
  },
  {
   "cell_type": "code",
   "execution_count": null,
   "metadata": {},
   "outputs": [],
   "source": [
    "from quaccatoo.ExpData import ExpData\n",
    "\n",
    "exp_data = ExpData(file_path='./ExpData_examples/NV_rabi.dat')\n",
    "exp_data.variable *= 1e6 # convert the variable from s to us\n",
    "\n",
    "rabi_analysis.compare_with(exp_data)\n",
    "rabi_analysis.plot_comparison()\n",
    "rabi_analysis.pearson"
   ]
  },
  {
   "cell_type": "markdown",
   "metadata": {},
   "source": [
    "In this case, we observe a strong correlation of the simulation and experimental data with an rvalue of 0.987. The standard observable for the NV is the population in the $m_s=0$ given by the fluorescence. To see the populations of the other two states $m_s=\\pm 1$, we need to redefine the system observables and define a new Rabi experiment."
   ]
  },
  {
   "cell_type": "code",
   "execution_count": null,
   "metadata": {},
   "outputs": [],
   "source": [
    "qsys.observable = [tensor(fock_dm(3, 0), qeye(2)), tensor(fock_dm(3, 2), qeye(2))]\n",
    "\n",
    "# define the Rabi experiment\n",
    "rabi_exp_2 = Rabi(\n",
    "    pulse_duration = np.linspace(0, 3/w1, 1000),\n",
    "    system = qsys, \n",
    "    H1 = w1*qsys.MW_H1,\n",
    "    pulse_params = {'f_pulse': qsys.MW_freqs[0]} # MW frequency for the ms=0 --> ms=-1 state transition\n",
    ")\n",
    "\n",
    "# run the experiment\n",
    "rabi_exp_2.run()\n",
    "Analysis(rabi_exp_2).plot_results()"
   ]
  },
  {
   "cell_type": "markdown",
   "metadata": {},
   "source": [
    "Note that population of the $m_s=+1$ remains 0, as we are using the $m_s=0 \\rightarrow -1$ resonant frequency, while the $m_s=-1$ population oscillates with the same frequency as the $m_s=0$ population, but with opposite sign. If we used the other resonant frequency, the $m_s=+1$ population would oscillate but $m_s=-1$ would remain 0."
   ]
  },
  {
   "cell_type": "code",
   "execution_count": null,
   "metadata": {},
   "outputs": [],
   "source": [
    "rabi_exp_3 = Rabi(\n",
    "    pulse_duration = np.linspace(0, 3/w1, 1000),\n",
    "    system = qsys,\n",
    "    H1 = w1*qsys.MW_H1,\n",
    "    pulse_params = {'f_pulse': qsys.MW_freqs[1]} # MW frequency for the ms=0 --> ms=+1 state transition\n",
    ")\n",
    "\n",
    "# run the experiment\n",
    "rabi_exp_3.run()\n",
    "Analysis(rabi_exp_3).plot_results()"
   ]
  },
  {
   "cell_type": "markdown",
   "metadata": {},
   "source": [
    "Finally, by running a fit of the observable we can extract the $\\pi$-pulse duration."
   ]
  },
  {
   "cell_type": "code",
   "execution_count": null,
   "metadata": {},
   "outputs": [],
   "source": [
    "# import Analysis and fit_rabi\n",
    "from quaccatoo.FitFunctions import fit_rabi\n",
    "\n",
    "qsys.observable = tensor(fock_dm(3,0), qeye(2)) # !!! This line doesn't change the already conducted simulation rabi_exp_1. We can just delete it. !!!\n",
    "\n",
    "# call the Analysis class for the rabi experiment\n",
    "rabi_analysis = Analysis(rabi_exp_1)\n",
    "\n",
    "rabi_analysis.run_fit(\n",
    "    fit_function = fit_rabi, # here we use the predefined fit_rabi function\n",
    "    guess = [.5, 1/2/w1, .5, 0], # we can provide an initial guess for the fit parameters, check the Analysis module for the order of the parameters\n",
    "    )\n",
    "\n",
    "# plot the fit results\n",
    "rabi_analysis.plot_fit()\n",
    "# print the fitted pi-pulse duration\n",
    "rabi_analysis.fit[1]"
   ]
  },
  {
   "cell_type": "markdown",
   "metadata": {},
   "source": [
    "As expected the $\\pi$-pulse duration is very close to $1/(2\\omega_1)$."
   ]
  },
  {
   "cell_type": "markdown",
   "metadata": {},
   "source": [
    "# 3. <a id='toc3_'></a>[Ramsey Experiment](#toc0_)"
   ]
  },
  {
   "cell_type": "markdown",
   "metadata": {},
   "source": [
    "A simple, but important, pulse sequence in quantum sensing is the Ramsey experiment. It measures the accumulated phase difference in the two levels, by applying a $\\pi/2$ pulse, waiting for a time $\\tau$ and applying another $\\pi/2$ pulse, then measuring the population in the $m_s=0$ state."
   ]
  },
  {
   "cell_type": "code",
   "execution_count": null,
   "metadata": {},
   "outputs": [],
   "source": [
    "# define the NV center system same as before\n",
    "qsys = NV(\n",
    "    N=15,\n",
    "    B0 = 40\n",
    ")\n",
    "\n",
    "w1 = 30 # Rabi frequency in MHz\n",
    "\n",
    "# import the Ramsey class\n",
    "from quaccatoo.PredefSeqs import Ramsey\n",
    "\n",
    "# define the Ramsey experiment\n",
    "ramsey_exp = Ramsey(\n",
    "    free_duration = np.linspace(1/2/w1, 3, 500), # free evolution time in us\n",
    "    pi_pulse_duration = 1/2/w1, # pi-pulse duration in us\n",
    "    system = qsys, # NV center system\n",
    "    H1 = w1*qsys.MW_H1, # control Hamiltonian\n",
    "    pulse_params = {'f_pulse': qsys.MW_freqs[0]} # MW frequency for the ms=0 --> ms=-1 state transition\n",
    ")\n",
    "\n",
    "# plot the pulses\n",
    "ramsey_exp.plot_pulses(tau=.03)"
   ]
  },
  {
   "cell_type": "code",
   "execution_count": null,
   "metadata": {},
   "outputs": [],
   "source": [
    "# run the experiment and plot results\n",
    "ramsey_exp.run()\n",
    "Analysis(ramsey_exp).plot_results()"
   ]
  },
  {
   "cell_type": "markdown",
   "metadata": {},
   "source": [
    "We could fit the results again with a period oscillation, but to illustrate a different method we will use the FFT from quaccatoo."
   ]
  },
  {
   "cell_type": "code",
   "execution_count": null,
   "metadata": {},
   "outputs": [],
   "source": [
    "ramsey_analysis = Analysis(ramsey_exp)\n",
    "# run the FFT\n",
    "ramsey_analysis.run_FFT()\n",
    "# extract peaks from the FFT spectrum\n",
    "ramsey_analysis.get_peaks_FFT()\n",
    "# plot the FFT results\n",
    "ramsey_analysis.plot_FFT(freq_lim=[0,5])"
   ]
  },
  {
   "cell_type": "markdown",
   "metadata": {},
   "source": [
    "The frequencies are too spaced in the FFT due to the low range of $\\tau$, but we can see the main peak corresponds to approximately half of the hyperfine splitting of the nuclear spin $a_{||}/2=1.515$ MHz, as expected."
   ]
  },
  {
   "cell_type": "markdown",
   "metadata": {},
   "source": [
    "# 4. <a id='toc4_'></a>[Pulsed Optically Detected Magnetic Resonance (pODMR)](#toc0_)"
   ]
  },
  {
   "cell_type": "markdown",
   "metadata": {},
   "source": [
    "To further study the energy levels of the system, we simulate a pODMR experiment. A pODMR experiment is simply composed by a pulse of varying frequency, thus when it corresponds to a resonance, a change in the observable is expected."
   ]
  },
  {
   "cell_type": "code",
   "execution_count": null,
   "metadata": {},
   "outputs": [],
   "source": [
    "# define the NV center system same as before\n",
    "qsys = NV(\n",
    "    N=15,\n",
    "    B0 = 40\n",
    ")\n",
    "\n",
    "w1 = 30 # Rabi frequency in MHz\n",
    "\n",
    "# import the PODMR class\n",
    "from quaccatoo.PredefSeqs import PODMR\n",
    "\n",
    "# define the PODMR experiment\n",
    "podmr_exp_1 = PODMR(\n",
    "    frequencies = np.arange(1400, 4300, 10), # frequencies to scan in MHz\n",
    "    pulse_duration = 1/2/w1, # pulse duration\n",
    "    system = qsys, # NV center system\n",
    "    H1 = w1*qsys.MW_H1, # control Hamiltonian\n",
    ")\n",
    "\n",
    "# run and plot the experiment\n",
    "podmr_exp_1.run()\n",
    "Analysis(podmr_exp_1).plot_results() # !!! The x-axis for pODMR is frequency, not the time. Changed in the class method!!!"
   ]
  },
  {
   "cell_type": "markdown",
   "metadata": {},
   "source": [
    "Two resonances can be observed, corresponding to the two electronic spin transitions and with a splitting given by the Zeeman interaction with the external magnetic field. To see the nuclear spin splitting, we need to reduce the Rabi frequency to have a better frequency resolution."
   ]
  },
  {
   "cell_type": "code",
   "execution_count": null,
   "metadata": {},
   "outputs": [],
   "source": [
    "w1 = 0.3 # Rabi frequency in MHz\n",
    "\n",
    "# define the PODMR experiment\n",
    "podmr_exp_2 = PODMR(\n",
    "    frequencies = np.arange(1745, 1753, 0.05), # frequencies to scan in MHz\n",
    "    pulse_duration = 1/2/w1, # pulse duration\n",
    "    system = qsys, # NV center system\n",
    "    H1 = w1*qsys.MW_H1, # control Hamiltonian\n",
    ")\n",
    "\n",
    "# run and plot the experiment\n",
    "podmr_exp_2.run()\n",
    "Analysis(podmr_exp_2).plot_results()"
   ]
  },
  {
   "cell_type": "markdown",
   "metadata": {},
   "source": [
    "The two resonances now correspond to the two nuclear spin transitions. Strictly speaking, they should be a sinc function, but we can fit them with Lorentzians to extract the splitting."
   ]
  },
  {
   "cell_type": "code",
   "execution_count": null,
   "metadata": {},
   "outputs": [],
   "source": [
    "podmr_analysis = Analysis(podmr_exp_2)\n",
    "\n",
    "from quaccatoo.FitFunctions import fit_two_lorentz_sym\n",
    "\n",
    "# run the fit\n",
    "podmr_analysis.run_fit(\n",
    "    fit_function = fit_two_lorentz_sym, # we use the same fit function as for the Rabi experiment\n",
    "    guess = [.5, 1, 1747.5, 1750.5, 1] # initial guess for the fit parameters\n",
    "    )\n",
    "\n",
    "podmr_analysis.plot_fit(xlabel='Frequency')\n",
    "podmr_analysis.fit[3] - podmr_analysis.fit[2]"
   ]
  },
  {
   "cell_type": "markdown",
   "metadata": {},
   "source": [
    "From the fit we can extract the parallel component of the hyperfine splitting $a_{||}=3.03$ MHz."
   ]
  }
 ],
 "metadata": {
  "kernelspec": {
   "display_name": "qutip5-env",
   "language": "python",
   "name": "python3"
  },
  "language_info": {
   "codemirror_mode": {
    "name": "ipython",
    "version": 3
   },
   "file_extension": ".py",
   "mimetype": "text/x-python",
   "name": "python",
   "nbconvert_exporter": "python",
   "pygments_lexer": "ipython3",
   "version": "3.12.5"
  }
 },
 "nbformat": 4,
 "nbformat_minor": 2
}
